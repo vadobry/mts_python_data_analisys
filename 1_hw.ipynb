{
 "cells": [
  {
   "cell_type": "code",
   "execution_count": 1,
   "id": "9320deee",
   "metadata": {},
   "outputs": [
    {
     "name": "stdout",
     "output_type": "stream",
     "text": [
      "Hello world,again!\n"
     ]
    }
   ],
   "source": [
    "print(\"Hello world,again!\")"
   ]
  },
  {
   "cell_type": "markdown",
   "id": "796d9708",
   "metadata": {},
   "source": [
    "1.Научиться оперативно использовать библиотеки типа пандас\n",
    "2.Данные знания позволят ускорить и улучшить качество наализа табличных значений показетелй аварийности и качества работ на сети\n",
    "3.Улучшить практическое испольование языка Python для ускорения разраотки других проектов\n",
    "4.Расширитьзнания и получить навыки в анализе данных для увеличения горизонта компетенций"
   ]
  },
  {
   "cell_type": "code",
   "execution_count": 13,
   "id": "b8735d11",
   "metadata": {},
   "outputs": [
    {
     "data": {
      "text/plain": [
       "9386.561536000012"
      ]
     },
     "execution_count": 13,
     "metadata": {},
     "output_type": "execute_result"
    }
   ],
   "source": [
    "s=20000\n",
    "p=8\n",
    "f=1\n",
    "l=5\n",
    "s*((1+p/(100*f))**(f*l))-s\n"
   ]
  },
  {
   "cell_type": "code",
   "execution_count": null,
   "id": "a02ab23c",
   "metadata": {},
   "outputs": [],
   "source": []
  },
  {
   "cell_type": "code",
   "execution_count": null,
   "id": "cf9c66bc",
   "metadata": {},
   "outputs": [],
   "source": []
  }
 ],
 "metadata": {
  "kernelspec": {
   "display_name": "Python 3 (ipykernel)",
   "language": "python",
   "name": "python3"
  },
  "language_info": {
   "codemirror_mode": {
    "name": "ipython",
    "version": 3
   },
   "file_extension": ".py",
   "mimetype": "text/x-python",
   "name": "python",
   "nbconvert_exporter": "python",
   "pygments_lexer": "ipython3",
   "version": "3.11.3"
  }
 },
 "nbformat": 4,
 "nbformat_minor": 5
}
